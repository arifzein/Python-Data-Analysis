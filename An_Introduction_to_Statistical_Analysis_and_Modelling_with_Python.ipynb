{
  "nbformat": 4,
  "nbformat_minor": 0,
  "metadata": {
    "colab": {
      "name": "An Introduction to Statistical Analysis and Modelling with Python.ipynb",
      "provenance": [],
      "collapsed_sections": [],
      "authorship_tag": "ABX9TyO4y+xIasMdbDAfbsnaikM/",
      "include_colab_link": true
    },
    "kernelspec": {
      "name": "python3",
      "display_name": "Python 3"
    }
  },
  "cells": [
    {
      "cell_type": "markdown",
      "metadata": {
        "id": "view-in-github",
        "colab_type": "text"
      },
      "source": [
        "<a href=\"https://colab.research.google.com/github/arifzein/Python-Data-Analysis/blob/master/An_Introduction_to_Statistical_Analysis_and_Modelling_with_Python.ipynb\" target=\"_parent\"><img src=\"https://colab.research.google.com/assets/colab-badge.svg\" alt=\"Open In Colab\"/></a>"
      ]
    },
    {
      "cell_type": "code",
      "metadata": {
        "id": "uPtBK2N2rZfb",
        "outputId": "d203a55f-860e-415f-fd46-a33970625c9e",
        "colab": {
          "base_uri": "https://localhost:8080/",
          "height": 243
        }
      },
      "source": [
        "import pandas as pd\n",
        "import numpy as np\n",
        "\n",
        "#Create a Dictionary of series\n",
        "d = {'Name':pd.Series(['Tom','James','Ricky','Vin','Steve','Smith','Jack',\n",
        "   'Lee','David','Gasper','Betina','Andres']),\n",
        "   'Age':pd.Series([25,26,25,23,30,29,23,34,40,30,51,46]),\n",
        "   'Rating':pd.Series([4.23,3.24,3.98,2.56,3.20,4.6,3.8,3.78,2.98,4.80,4.10,3.65])\n",
        "}\n",
        "\n",
        "#Create a DataFrame\n",
        "df = pd.DataFrame(d)\n",
        "print (df)"
      ],
      "execution_count": 3,
      "outputs": [
        {
          "output_type": "stream",
          "text": [
            "      Name  Age  Rating\n",
            "0      Tom   25    4.23\n",
            "1    James   26    3.24\n",
            "2    Ricky   25    3.98\n",
            "3      Vin   23    2.56\n",
            "4    Steve   30    3.20\n",
            "5    Smith   29    4.60\n",
            "6     Jack   23    3.80\n",
            "7      Lee   34    3.78\n",
            "8    David   40    2.98\n",
            "9   Gasper   30    4.80\n",
            "10  Betina   51    4.10\n",
            "11  Andres   46    3.65\n"
          ],
          "name": "stdout"
        }
      ]
    },
    {
      "cell_type": "code",
      "metadata": {
        "id": "uKWPhKuxtOTV",
        "outputId": "563428de-c3b0-4b01-ad33-6c670c640d10",
        "colab": {
          "base_uri": "https://localhost:8080/",
          "height": 87
        }
      },
      "source": [
        "import pandas as pd\n",
        "import numpy as np\n",
        " \n",
        "#Create a Dictionary of series\n",
        "d = {'Name':pd.Series(['Tom','James','Ricky','Vin','Steve','Smith','Jack',\n",
        "   'Lee','David','Gasper','Betina','Andres']),\n",
        "   'Age':pd.Series([25,26,25,23,30,29,23,34,40,30,51,46]),\n",
        "   'Rating':pd.Series([4.23,3.24,3.98,2.56,3.20,4.6,3.8,3.78,2.98,4.80,4.10,3.65])\n",
        "}\n",
        "\n",
        "#Create a DataFrame\n",
        "df = pd.DataFrame(d)\n",
        "print (df.sum())"
      ],
      "execution_count": 4,
      "outputs": [
        {
          "output_type": "stream",
          "text": [
            "Name      TomJamesRickyVinSteveSmithJackLeeDavidGasperBe...\n",
            "Age                                                     382\n",
            "Rating                                                44.92\n",
            "dtype: object\n"
          ],
          "name": "stdout"
        }
      ]
    },
    {
      "cell_type": "code",
      "metadata": {
        "id": "lzzFm2VMtXvl",
        "outputId": "3f950b7b-657d-484c-d5c9-1411c0afb6fd",
        "colab": {
          "base_uri": "https://localhost:8080/",
          "height": 243
        }
      },
      "source": [
        "import pandas as pd\n",
        "import numpy as np\n",
        " \n",
        "#Create a Dictionary of series\n",
        "d = {'Name':pd.Series(['Tom','James','Ricky','Vin','Steve','Smith','Jack',\n",
        "   'Lee','David','Gasper','Betina','Andres']),\n",
        "   'Age':pd.Series([25,26,25,23,30,29,23,34,40,30,51,46]),\n",
        "   'Rating':pd.Series([4.23,3.24,3.98,2.56,3.20,4.6,3.8,3.78,2.98,4.80,4.10,3.65])\n",
        "}\n",
        " \n",
        "#Create a DataFrame\n",
        "df = pd.DataFrame(d)\n",
        "print (df.sum(1))"
      ],
      "execution_count": 5,
      "outputs": [
        {
          "output_type": "stream",
          "text": [
            "0     29.23\n",
            "1     29.24\n",
            "2     28.98\n",
            "3     25.56\n",
            "4     33.20\n",
            "5     33.60\n",
            "6     26.80\n",
            "7     37.78\n",
            "8     42.98\n",
            "9     34.80\n",
            "10    55.10\n",
            "11    49.65\n",
            "dtype: float64\n"
          ],
          "name": "stdout"
        }
      ]
    },
    {
      "cell_type": "code",
      "metadata": {
        "id": "GyCbgKf3tdkc",
        "outputId": "b1476ea7-bd40-410e-9b56-178db04ef819",
        "colab": {
          "base_uri": "https://localhost:8080/",
          "height": 69
        }
      },
      "source": [
        "import pandas as pd\n",
        "import numpy as np\n",
        "\n",
        "#Create a Dictionary of series\n",
        "d = {'Name':pd.Series(['Tom','James','Ricky','Vin','Steve','Smith','Jack',\n",
        "   'Lee','David','Gasper','Betina','Andres']),\n",
        "   'Age':pd.Series([25,26,25,23,30,29,23,34,40,30,51,46]),\n",
        "   'Rating':pd.Series([4.23,3.24,3.98,2.56,3.20,4.6,3.8,3.78,2.98,4.80,4.10,3.65])\n",
        "}\n",
        "\n",
        "#Create a DataFrame\n",
        "df = pd.DataFrame(d)\n",
        "print( df.mean())"
      ],
      "execution_count": 6,
      "outputs": [
        {
          "output_type": "stream",
          "text": [
            "Age       31.833333\n",
            "Rating     3.743333\n",
            "dtype: float64\n"
          ],
          "name": "stdout"
        }
      ]
    },
    {
      "cell_type": "code",
      "metadata": {
        "id": "9LSjsXYttmrR",
        "outputId": "14a26e5b-9bb0-4d3e-b0ad-1f73db1f2236",
        "colab": {
          "base_uri": "https://localhost:8080/",
          "height": 173
        }
      },
      "source": [
        "import pandas as pd\n",
        "import numpy as np\n",
        "\n",
        "#Create a Dictionary of series\n",
        "d = {'Name':pd.Series(['Tom','James','Ricky','Vin','Steve','Smith','Jack',\n",
        "   'Lee','David','Gasper','Betina','Andres']),\n",
        "   'Age':pd.Series([25,26,25,23,30,29,23,34,40,30,51,46]),\n",
        "   'Rating':pd.Series([4.23,3.24,3.98,2.56,3.20,4.6,3.8,3.78,2.98,4.80,4.10,3.65])\n",
        "}\n",
        "\n",
        "#Create a DataFrame\n",
        "df = pd.DataFrame(d)\n",
        "print (df.describe())"
      ],
      "execution_count": 7,
      "outputs": [
        {
          "output_type": "stream",
          "text": [
            "             Age     Rating\n",
            "count  12.000000  12.000000\n",
            "mean   31.833333   3.743333\n",
            "std     9.232682   0.661628\n",
            "min    23.000000   2.560000\n",
            "25%    25.000000   3.230000\n",
            "50%    29.500000   3.790000\n",
            "75%    35.500000   4.132500\n",
            "max    51.000000   4.800000\n"
          ],
          "name": "stdout"
        }
      ]
    },
    {
      "cell_type": "code",
      "metadata": {
        "id": "a32Zw9Vlt7ie",
        "outputId": "5540afec-ac3b-4c67-bd7b-8df15f8daae1",
        "colab": {
          "base_uri": "https://localhost:8080/",
          "height": 355
        }
      },
      "source": [
        "import numpy as np\n",
        "import matplotlib.pyplot as plt\n",
        "x_norm = np.random.normal(50, 2, 500)\n",
        "plt.hist(x_norm)"
      ],
      "execution_count": 8,
      "outputs": [
        {
          "output_type": "execute_result",
          "data": {
            "text/plain": [
              "(array([  7.,  14.,  36.,  73., 107., 115.,  98.,  36.,  12.,   2.]),\n",
              " array([43.85908202, 45.08544461, 46.31180719, 47.53816978, 48.76453236,\n",
              "        49.99089495, 51.21725754, 52.44362012, 53.66998271, 54.8963453 ,\n",
              "        56.12270788]),\n",
              " <a list of 10 Patch objects>)"
            ]
          },
          "metadata": {
            "tags": []
          },
          "execution_count": 8
        },
        {
          "output_type": "display_data",
          "data": {
            "image/png": "[encoded data removed]",
            "text/plain": [
              "<Figure size 432x288 with 1 Axes>"
            ]
          },
          "metadata": {
            "tags": [],
            "needs_background": "light"
          }
        }
      ]
    },
    {
      "cell_type": "code",
      "metadata": {
        "id": "Af0p82T8uAqx",
        "outputId": "266f4172-0b8b-4c20-896e-5a04ffaeaaca",
        "colab": {
          "base_uri": "https://localhost:8080/",
          "height": 283
        }
      },
      "source": [
        "from scipy.stats.kde import gaussian_kde\n",
        "from numpy import linspace\n",
        "# estimate the probability density function (PDF)\n",
        "kde = gaussian_kde(x_norm)\n",
        "# return evenly spaced numbers over a specified interval\n",
        "dist_space = linspace(min(x_norm), max(x_norm), 100)\n",
        "# plot the results\n",
        "plt.plot(dist_space, kde(dist_space))"
      ],
      "execution_count": 9,
      "outputs": [
        {
          "output_type": "execute_result",
          "data": {
            "text/plain": [
              "[<matplotlib.lines.Line2D at 0x7f60378be710>]"
            ]
          },
          "metadata": {
            "tags": []
          },
          "execution_count": 9
        },
        {
          "output_type": "display_data",
          "data": {
            "image/png": "[encoded data removed]",
            "text/plain": [
              "<Figure size 432x288 with 1 Axes>"
            ]
          },
          "metadata": {
            "tags": [],
            "needs_background": "light"
          }
        }
      ]
    },
    {
      "cell_type": "code",
      "metadata": {
        "id": "zd_tVZXzuHnF",
        "outputId": "ccf19e67-60a0-4ec2-c074-22a1caa5b74d",
        "colab": {
          "base_uri": "https://localhost:8080/",
          "height": 299
        }
      },
      "source": [
        "plt.plot(np.sort(x_norm), np.linspace(0, 1, len(x_norm)))\n",
        "plt.title('Empirical CDF for x_norm')"
      ],
      "execution_count": 11,
      "outputs": [
        {
          "output_type": "execute_result",
          "data": {
            "text/plain": [
              "Text(0.5, 1.0, 'Empirical CDF for x_norm')"
            ]
          },
          "metadata": {
            "tags": []
          },
          "execution_count": 11
        },
        {
          "output_type": "display_data",
          "data": {
            "image/png": "[encoded data removed]",
            "text/plain": [
              "<Figure size 432x288 with 1 Axes>"
            ]
          },
          "metadata": {
            "tags": [],
            "needs_background": "light"
          }
        }
      ]
    },
    {
      "cell_type": "code",
      "metadata": {
        "id": "8IKuxe7Zuqn8",
        "outputId": "6b701486-9efc-4f4e-82e9-ebc20a53ca1f",
        "colab": {
          "base_uri": "https://localhost:8080/",
          "height": 1000
        }
      },
      "source": [
        "from scipy import stats\n",
        "stats.probplot(x_norm, plot=plt)"
      ],
      "execution_count": 12,
      "outputs": [
        {
          "output_type": "execute_result",
          "data": {
            "text/plain": [
              "((array([-2.99209858e+00, -2.71015927e+00, -2.55162541e+00, -2.43921385e+00,\n",
              "         -2.35113311e+00, -2.27822091e+00, -2.21572267e+00, -2.16084152e+00,\n",
              "         -2.11178767e+00, -2.06734403e+00, -2.02664403e+00, -1.98904794e+00,\n",
              "         -1.95406954e+00, -1.92133033e+00, -1.89052965e+00, -1.86142459e+00,\n",
              "         -1.83381593e+00, -1.80753820e+00, -1.78245240e+00, -1.75844061e+00,\n",
              "         -1.73540186e+00, -1.71324904e+00, -1.69190643e+00, -1.67130780e+00,\n",
              "         -1.65139483e+00, -1.63211595e+00, -1.61342528e+00, -1.59528183e+00,\n",
              "         -1.57764883e+00, -1.56049314e+00, -1.54378481e+00, -1.52749667e+00,\n",
              "         -1.51160399e+00, -1.49608418e+00, -1.48091659e+00, -1.46608224e+00,\n",
              "         -1.45156367e+00, -1.43734479e+00, -1.42341071e+00, -1.40974764e+00,\n",
              "         -1.39634279e+00, -1.38318426e+00, -1.37026095e+00, -1.35756253e+00,\n",
              "         -1.34507932e+00, -1.33280226e+00, -1.32072287e+00, -1.30883317e+00,\n",
              "         -1.29712567e+00, -1.28559331e+00, -1.27422944e+00, -1.26302778e+00,\n",
              "         -1.25198239e+00, -1.24108768e+00, -1.23033831e+00, -1.21972926e+00,\n",
              "         -1.20925574e+00, -1.19891322e+00, -1.18869738e+00, -1.17860411e+00,\n",
              "         -1.16862950e+00, -1.15876983e+00, -1.14902154e+00, -1.13938123e+00,\n",
              "         -1.12984566e+00, -1.12041173e+00, -1.11107648e+00, -1.10183707e+00,\n",
              "         -1.09269077e+00, -1.08363498e+00, -1.07466719e+00, -1.06578501e+00,\n",
              "         -1.05698612e+00, -1.04826831e+00, -1.03962946e+00, -1.03106750e+00,\n",
              "         -1.02258046e+00, -1.01416645e+00, -1.00582364e+00, -9.97550247e-01,\n",
              "         -9.89344581e-01, -9.81204996e-01, -9.73129904e-01, -9.65117774e-01,\n",
              "         -9.57167125e-01, -9.49276525e-01, -9.41444591e-01, -9.33669982e-01,\n",
              "         -9.25951403e-01, -9.18287599e-01, -9.10677353e-01, -9.03119487e-01,\n",
              "         -8.95612861e-01, -8.88156365e-01, -8.80748927e-01, -8.73389502e-01,\n",
              "         -8.66077081e-01, -8.58810678e-01, -8.51589342e-01, -8.44412143e-01,\n",
              "         -8.37278180e-01, -8.30186576e-01, -8.23136480e-01, -8.16127061e-01,\n",
              "         -8.09157513e-01, -8.02227049e-01, -7.95334905e-01, -7.88480336e-01,\n",
              "         -7.81662614e-01, -7.74881033e-01, -7.68134903e-01, -7.61423551e-01,\n",
              "         -7.54746322e-01, -7.48102575e-01, -7.41491685e-01, -7.34913044e-01,\n",
              "         -7.28366057e-01, -7.21850142e-01, -7.15364731e-01, -7.08909270e-01,\n",
              "         -7.02483218e-01, -6.96086043e-01, -6.89717230e-01, -6.83376271e-01,\n",
              "         -6.77062670e-01, -6.70775943e-01, -6.64515617e-01, -6.58281226e-01,\n",
              "         -6.52072317e-01, -6.45888445e-01, -6.39729174e-01, -6.33594076e-01,\n",
              "         -6.27482735e-01, -6.21394740e-01, -6.15329690e-01, -6.09287191e-01,\n",
              "         -6.03266856e-01, -5.97268307e-01, -5.91291174e-01, -5.85335090e-01,\n",
              "         -5.79399700e-01, -5.73484651e-01, -5.67589599e-01, -5.61714207e-01,\n",
              "         -5.55858142e-01, -5.50021077e-01, -5.44202692e-01, -5.38402673e-01,\n",
              "         -5.32620709e-01, -5.26856497e-01, -5.21109737e-01, -5.15380136e-01,\n",
              "         -5.09667405e-01, -5.03971258e-01, -4.98291417e-01, -4.92627606e-01,\n",
              "         -4.86979553e-01, -4.81346993e-01, -4.75729663e-01, -4.70127305e-01,\n",
              "         -4.64539663e-01, -4.58966488e-01, -4.53407532e-01, -4.47862553e-01,\n",
              "         -4.42331309e-01, -4.36813566e-01, -4.31309089e-01, -4.25817651e-01,\n",
              "         -4.20339023e-01, -4.14872983e-01, -4.09419311e-01, -4.03977788e-01,\n",
              "         -3.98548202e-01, -3.93130339e-01, -3.87723992e-01, -3.82328953e-01,\n",
              "         -3.76945020e-01, -3.71571992e-01, -3.66209669e-01, -3.60857856e-01,\n",
              "         -3.55516359e-01, -3.50184986e-01, -3.44863547e-01, -3.39551857e-01,\n",
              "         -3.34249730e-01, -3.28956983e-01, -3.23673435e-01, -3.18398908e-01,\n",
              "         -3.13133223e-01, -3.07876207e-01, -3.02627686e-01, -2.97387487e-01,\n",
              "         -2.92155443e-01, -2.86931384e-01, -2.81715143e-01, -2.76506557e-01,\n",
              "         -2.71305462e-01, -2.66111695e-01, -2.60925097e-01, -2.55745509e-01,\n",
              "         -2.50572773e-01, -2.45406732e-01, -2.40247233e-01, -2.35094122e-01,\n",
              "         -2.29947246e-01, -2.24806454e-01, -2.19671596e-01, -2.14542524e-01,\n",
              "         -2.09419090e-01, -2.04301147e-01, -1.99188550e-01, -1.94081154e-01,\n",
              "         -1.88978816e-01, -1.83881393e-01, -1.78788743e-01, -1.73700727e-01,\n",
              "         -1.68617203e-01, -1.63538032e-01, -1.58463078e-01, -1.53392201e-01,\n",
              "         -1.48325265e-01, -1.43262135e-01, -1.38202675e-01, -1.33146749e-01,\n",
              "         -1.28094226e-01, -1.23044970e-01, -1.17998849e-01, -1.12955731e-01,\n",
              "         -1.07915484e-01, -1.02877978e-01, -9.78430801e-02, -9.28106619e-02,\n",
              "         -8.77805930e-02, -8.27527442e-02, -7.77269864e-02, -7.27031911e-02,\n",
              "         -6.76812301e-02, -6.26609755e-02, -5.76422995e-02, -5.26250751e-02,\n",
              "         -4.76091750e-02, -4.25944724e-02, -3.75808407e-02, -3.25681535e-02,\n",
              "         -2.75562846e-02, -2.25451077e-02, -1.75344969e-02, -1.25243263e-02,\n",
              "         -7.51447003e-03, -2.50480239e-03,  2.50480239e-03,  7.51447003e-03,\n",
              "          1.25243263e-02,  1.75344969e-02,  2.25451077e-02,  2.75562846e-02,\n",
              "          3.25681535e-02,  3.75808407e-02,  4.25944724e-02,  4.76091750e-02,\n",
              "          5.26250751e-02,  5.76422995e-02,  6.26609755e-02,  6.76812301e-02,\n",
              "          7.27031911e-02,  7.77269864e-02,  8.27527442e-02,  8.77805930e-02,\n",
              "          9.28106619e-02,  9.78430801e-02,  1.02877978e-01,  1.07915484e-01,\n",
              "          1.12955731e-01,  1.17998849e-01,  1.23044970e-01,  1.28094226e-01,\n",
              "          1.33146749e-01,  1.38202675e-01,  1.43262135e-01,  1.48325265e-01,\n",
              "          1.53392201e-01,  1.58463078e-01,  1.63538032e-01,  1.68617203e-01,\n",
              "          1.73700727e-01,  1.78788743e-01,  1.83881393e-01,  1.88978816e-01,\n",
              "          1.94081154e-01,  1.99188550e-01,  2.04301147e-01,  2.09419090e-01,\n",
              "          2.14542524e-01,  2.19671596e-01,  2.24806454e-01,  2.29947246e-01,\n",
              "          2.35094122e-01,  2.40247233e-01,  2.45406732e-01,  2.50572773e-01,\n",
              "          2.55745509e-01,  2.60925097e-01,  2.66111695e-01,  2.71305462e-01,\n",
              "          2.76506557e-01,  2.81715143e-01,  2.86931384e-01,  2.92155443e-01,\n",
              "          2.97387487e-01,  3.02627686e-01,  3.07876207e-01,  3.13133223e-01,\n",
              "          3.18398908e-01,  3.23673435e-01,  3.28956983e-01,  3.34249730e-01,\n",
              "          3.39551857e-01,  3.44863547e-01,  3.50184986e-01,  3.55516359e-01,\n",
              "          3.60857856e-01,  3.66209669e-01,  3.71571992e-01,  3.76945020e-01,\n",
              "          3.82328953e-01,  3.87723992e-01,  3.93130339e-01,  3.98548202e-01,\n",
              "          4.03977788e-01,  4.09419311e-01,  4.14872983e-01,  4.20339023e-01,\n",
              "          4.25817651e-01,  4.31309089e-01,  4.36813566e-01,  4.42331309e-01,\n",
              "          4.47862553e-01,  4.53407532e-01,  4.58966488e-01,  4.64539663e-01,\n",
              "          4.70127305e-01,  4.75729663e-01,  4.81346993e-01,  4.86979553e-01,\n",
              "          4.92627606e-01,  4.98291417e-01,  5.03971258e-01,  5.09667405e-01,\n",
              "          5.15380136e-01,  5.21109737e-01,  5.26856497e-01,  5.32620709e-01,\n",
              "          5.38402673e-01,  5.44202692e-01,  5.50021077e-01,  5.55858142e-01,\n",
              "          5.61714207e-01,  5.67589599e-01,  5.73484651e-01,  5.79399700e-01,\n",
              "          5.85335090e-01,  5.91291174e-01,  5.97268307e-01,  6.03266856e-01,\n",
              "          6.09287191e-01,  6.15329690e-01,  6.21394740e-01,  6.27482735e-01,\n",
              "          6.33594076e-01,  6.39729174e-01,  6.45888445e-01,  6.52072317e-01,\n",
              "          6.58281226e-01,  6.64515617e-01,  6.70775943e-01,  6.77062670e-01,\n",
              "          6.83376271e-01,  6.89717230e-01,  6.96086043e-01,  7.02483218e-01,\n",
              "          7.08909270e-01,  7.15364731e-01,  7.21850142e-01,  7.28366057e-01,\n",
              "          7.34913044e-01,  7.41491685e-01,  7.48102575e-01,  7.54746322e-01,\n",
              "          7.61423551e-01,  7.68134903e-01,  7.74881033e-01,  7.81662614e-01,\n",
              "          7.88480336e-01,  7.95334905e-01,  8.02227049e-01,  8.09157513e-01,\n",
              "          8.16127061e-01,  8.23136480e-01,  8.30186576e-01,  8.37278180e-01,\n",
              "          8.44412143e-01,  8.51589342e-01,  8.58810678e-01,  8.66077081e-01,\n",
              "          8.73389502e-01,  8.80748927e-01,  8.88156365e-01,  8.95612861e-01,\n",
              "          9.03119487e-01,  9.10677353e-01,  9.18287599e-01,  9.25951403e-01,\n",
              "          9.33669982e-01,  9.41444591e-01,  9.49276525e-01,  9.57167125e-01,\n",
              "          9.65117774e-01,  9.73129904e-01,  9.81204996e-01,  9.89344581e-01,\n",
              "          9.97550247e-01,  1.00582364e+00,  1.01416645e+00,  1.02258046e+00,\n",
              "          1.03106750e+00,  1.03962946e+00,  1.04826831e+00,  1.05698612e+00,\n",
              "          1.06578501e+00,  1.07466719e+00,  1.08363498e+00,  1.09269077e+00,\n",
              "          1.10183707e+00,  1.11107648e+00,  1.12041173e+00,  1.12984566e+00,\n",
              "          1.13938123e+00,  1.14902154e+00,  1.15876983e+00,  1.16862950e+00,\n",
              "          1.17860411e+00,  1.18869738e+00,  1.19891322e+00,  1.20925574e+00,\n",
              "          1.21972926e+00,  1.23033831e+00,  1.24108768e+00,  1.25198239e+00,\n",
              "          1.26302778e+00,  1.27422944e+00,  1.28559331e+00,  1.29712567e+00,\n",
              "          1.30883317e+00,  1.32072287e+00,  1.33280226e+00,  1.34507932e+00,\n",
              "          1.35756253e+00,  1.37026095e+00,  1.38318426e+00,  1.39634279e+00,\n",
              "          1.40974764e+00,  1.42341071e+00,  1.43734479e+00,  1.45156367e+00,\n",
              "          1.46608224e+00,  1.48091659e+00,  1.49608418e+00,  1.51160399e+00,\n",
              "          1.52749667e+00,  1.54378481e+00,  1.56049314e+00,  1.57764883e+00,\n",
              "          1.59528183e+00,  1.61342528e+00,  1.63211595e+00,  1.65139483e+00,\n",
              "          1.67130780e+00,  1.69190643e+00,  1.71324904e+00,  1.73540186e+00,\n",
              "          1.75844061e+00,  1.78245240e+00,  1.80753820e+00,  1.83381593e+00,\n",
              "          1.86142459e+00,  1.89052965e+00,  1.92133033e+00,  1.95406954e+00,\n",
              "          1.98904794e+00,  2.02664403e+00,  2.06734403e+00,  2.11178767e+00,\n",
              "          2.16084152e+00,  2.21572267e+00,  2.27822091e+00,  2.35113311e+00,\n",
              "          2.43921385e+00,  2.55162541e+00,  2.71015927e+00,  2.99209858e+00]),\n",
              "  array([43.85908202, 43.9626121 , 44.25662779, 44.6929965 , 44.74351655,\n",
              "         44.77236911, 45.04039489, 45.28565924, 45.38014298, 45.62404008,\n",
              "         45.75297818, 45.85725697, 45.87549754, 45.9292965 , 45.95101187,\n",
              "         45.98791454, 46.06243242, 46.06821826, 46.09374036, 46.17478427,\n",
              "         46.21896995, 46.3432253 , 46.39151862, 46.44811465, 46.47780743,\n",
              "         46.60656902, 46.60838866, 46.64708523, 46.67016788, 46.69998218,\n",
              "         46.78896053, 46.84332234, 46.94488466, 46.95281443, 46.95732944,\n",
              "         46.97220675, 46.99581778, 47.02762479, 47.03470431, 47.04305175,\n",
              "         47.06650952, 47.07090149, 47.07603391, 47.08259177, 47.15126544,\n",
              "         47.15995275, 47.17073321, 47.19841653, 47.22784416, 47.22790746,\n",
              "         47.26351464, 47.30017045, 47.30848905, 47.39455693, 47.4614056 ,\n",
              "         47.47658383, 47.51424492, 47.55323174, 47.55602662, 47.61057883,\n",
              "         47.61380397, 47.6147689 , 47.62915615, 47.68174444, 47.6881089 ,\n",
              "         47.68861379, 47.6962427 , 47.7016921 , 47.72311009, 47.75377316,\n",
              "         47.75511521, 47.76190565, 47.77806599, 47.78141764, 47.80904306,\n",
              "         47.81066323, 47.82791642, 47.83913465, 47.85651971, 47.88463612,\n",
              "         47.91361239, 47.95470307, 47.95869476, 48.01307716, 48.02696753,\n",
              "         48.0631885 , 48.06681171, 48.09250749, 48.11590655, 48.1409778 ,\n",
              "         48.14632041, 48.15132429, 48.15301048, 48.15983846, 48.22230647,\n",
              "         48.22713741, 48.23348853, 48.23829006, 48.2419608 , 48.29341192,\n",
              "         48.30546347, 48.31065198, 48.31538937, 48.32988107, 48.33338944,\n",
              "         48.34882576, 48.40939193, 48.44113363, 48.4542676 , 48.47870236,\n",
              "         48.48428364, 48.50336311, 48.50460617, 48.50471392, 48.53081327,\n",
              "         48.57383866, 48.5791135 , 48.59593771, 48.60102209, 48.60156091,\n",
              "         48.62547543, 48.63568234, 48.64411687, 48.65559728, 48.66183393,\n",
              "         48.70162082, 48.70761365, 48.71607711, 48.71768642, 48.74263088,\n",
              "         48.78537976, 48.78808003, 48.80349773, 48.8043644 , 48.83036196,\n",
              "         48.84939292, 48.85436763, 48.86276128, 48.86628021, 48.87268525,\n",
              "         48.88667686, 48.90493077, 48.93348134, 48.93462145, 48.9540564 ,\n",
              "         48.95843266, 48.96100401, 48.96109759, 48.96134552, 48.96391946,\n",
              "         48.97212103, 48.99621698, 49.00616211, 49.01099461, 49.01629051,\n",
              "         49.02156457, 49.02282022, 49.03644936, 49.04026773, 49.04766713,\n",
              "         49.05036724, 49.05398188, 49.05713598, 49.05812517, 49.07030549,\n",
              "         49.07579875, 49.09388457, 49.10429795, 49.10793571, 49.1350502 ,\n",
              "         49.13666416, 49.14192026, 49.15005898, 49.17780473, 49.1839068 ,\n",
              "         49.19279617, 49.22373175, 49.22397175, 49.22410325, 49.24257531,\n",
              "         49.27229352, 49.29184039, 49.29542835, 49.29916479, 49.30651935,\n",
              "         49.31143687, 49.31767012, 49.31931469, 49.32484925, 49.33424943,\n",
              "         49.34147951, 49.37162904, 49.38916321, 49.39073582, 49.40118479,\n",
              "         49.4451317 , 49.47294378, 49.4858894 , 49.48749954, 49.49859058,\n",
              "         49.51121145, 49.51145375, 49.51216811, 49.5193286 , 49.54339715,\n",
              "         49.54890961, 49.55183123, 49.61084344, 49.61833042, 49.62326697,\n",
              "         49.63174776, 49.64769759, 49.6586915 , 49.66748312, 49.66762177,\n",
              "         49.68577898, 49.72782466, 49.73000814, 49.73689351, 49.74012764,\n",
              "         49.78567192, 49.78990304, 49.81802971, 49.82804753, 49.83197437,\n",
              "         49.85410984, 49.85646732, 49.86610955, 49.87829837, 49.8810338 ,\n",
              "         49.88553322, 49.90725242, 49.93322946, 49.94879945, 49.95647277,\n",
              "         49.96281189, 49.96295004, 49.99165104, 50.00280108, 50.01051202,\n",
              "         50.02314968, 50.02485553, 50.03175624, 50.04050794, 50.0406788 ,\n",
              "         50.04753487, 50.05568847, 50.06060064, 50.09413746, 50.10292421,\n",
              "         50.10629973, 50.10897889, 50.11681972, 50.141519  , 50.14782992,\n",
              "         50.16579087, 50.19635237, 50.2040159 , 50.20621707, 50.22860875,\n",
              "         50.25990013, 50.26366921, 50.29562044, 50.29627936, 50.3103675 ,\n",
              "         50.33586251, 50.33672368, 50.33727213, 50.34552673, 50.35472786,\n",
              "         50.36069544, 50.36385488, 50.38197814, 50.38678287, 50.38737792,\n",
              "         50.39164072, 50.39303024, 50.39991655, 50.4069009 , 50.41506607,\n",
              "         50.41685625, 50.4216639 , 50.42477094, 50.44230126, 50.44677537,\n",
              "         50.47735537, 50.4802765 , 50.48528671, 50.49718101, 50.52327819,\n",
              "         50.53132057, 50.54240897, 50.54332636, 50.543346  , 50.54390628,\n",
              "         50.57723903, 50.58463085, 50.58727677, 50.59960437, 50.60820576,\n",
              "         50.61393318, 50.64214337, 50.65017401, 50.65880278, 50.65981677,\n",
              "         50.66256716, 50.66635649, 50.69306461, 50.73978117, 50.75506364,\n",
              "         50.75691541, 50.76818921, 50.7968404 , 50.79969866, 50.80964768,\n",
              "         50.81178839, 50.82540565, 50.84709296, 50.85442746, 50.86103434,\n",
              "         50.86239992, 50.87082848, 50.88471349, 50.89683496, 50.89838254,\n",
              "         50.90133578, 50.90396258, 50.93686411, 50.94389434, 50.94473397,\n",
              "         50.94589107, 50.95248751, 50.9695806 , 51.00547951, 51.02178759,\n",
              "         51.02968615, 51.0479795 , 51.06523382, 51.08847277, 51.09162716,\n",
              "         51.10019155, 51.13435839, 51.14559186, 51.14906892, 51.16468584,\n",
              "         51.17214059, 51.17453543, 51.17806736, 51.1908379 , 51.19841478,\n",
              "         51.20022241, 51.20260978, 51.21892582, 51.22044476, 51.23485439,\n",
              "         51.24036267, 51.2445327 , 51.24587547, 51.24794722, 51.26109785,\n",
              "         51.27338305, 51.27438165, 51.2763195 , 51.27675722, 51.30332295,\n",
              "         51.31856818, 51.32016662, 51.33109022, 51.33510513, 51.33692658,\n",
              "         51.35922126, 51.41230804, 51.42846914, 51.4606912 , 51.47785321,\n",
              "         51.51175449, 51.51633683, 51.52929132, 51.53237032, 51.53248341,\n",
              "         51.54352609, 51.55012833, 51.59398252, 51.59404953, 51.59470452,\n",
              "         51.60991001, 51.62317095, 51.62776865, 51.64937856, 51.6706365 ,\n",
              "         51.69654483, 51.74222966, 51.74801645, 51.74877448, 51.74942241,\n",
              "         51.7578818 , 51.77096624, 51.79656183, 51.81897886, 51.84733477,\n",
              "         51.85175635, 51.86526849, 51.8688283 , 51.89246253, 51.89412734,\n",
              "         51.91276918, 51.91638906, 51.94023576, 51.94263028, 51.95179705,\n",
              "         51.96498938, 51.97346455, 51.97739172, 51.98022568, 51.98837801,\n",
              "         52.01147628, 52.01339806, 52.05667421, 52.05773929, 52.06568862,\n",
              "         52.07083551, 52.07156161, 52.09380471, 52.11731644, 52.1335302 ,\n",
              "         52.13639713, 52.1381464 , 52.1556782 , 52.16275351, 52.1659934 ,\n",
              "         52.1724846 , 52.18668853, 52.18888876, 52.19061042, 52.19286858,\n",
              "         52.196584  , 52.22208732, 52.26587307, 52.26707597, 52.2678046 ,\n",
              "         52.27058353, 52.2798094 , 52.29256596, 52.30912837, 52.34156738,\n",
              "         52.36275374, 52.37129109, 52.40509504, 52.43783207, 52.4419583 ,\n",
              "         52.44539148, 52.45106238, 52.49148401, 52.49466686, 52.56247639,\n",
              "         52.60670512, 52.61820331, 52.64976605, 52.65341568, 52.7317657 ,\n",
              "         52.74808171, 52.77452807, 52.81489142, 52.85783364, 52.92672376,\n",
              "         52.94614876, 52.96088353, 52.97214195, 52.99045713, 52.99472474,\n",
              "         53.00567949, 53.16893318, 53.20578784, 53.2498766 , 53.26806101,\n",
              "         53.27582594, 53.27679097, 53.30081106, 53.30113925, 53.33367494,\n",
              "         53.43002171, 53.47515642, 53.52190025, 53.57314121, 53.57620736,\n",
              "         53.6586509 , 53.71639632, 53.8154351 , 53.8744935 , 54.02818671,\n",
              "         54.30324366, 54.40235177, 54.43815173, 54.4730238 , 54.57337218,\n",
              "         54.58430313, 54.65584106, 54.82553517, 55.65347672, 56.12270788])),\n",
              " (2.062940855893156, 50.012924866500676, 0.9984520755858256))"
            ]
          },
          "metadata": {
            "tags": []
          },
          "execution_count": 12
        },
        {
          "output_type": "display_data",
          "data": {
            "image/png": "[encoded data removed]",
            "text/plain": [
              "<Figure size 432x288 with 1 Axes>"
            ]
          },
          "metadata": {
            "tags": [],
            "needs_background": "light"
          }
        }
      ]
    },
    {
      "cell_type": "code",
      "metadata": {
        "id": "0ylyPm6DuwpR",
        "outputId": "0f46568b-ec99-42a0-94f2-56817e16d408",
        "colab": {
          "base_uri": "https://localhost:8080/",
          "height": 352
        }
      },
      "source": [
        "x_wei = np.random.weibull(2, 500) # A Weibull sample of shape 2and size 500\n",
        "plt.hist(x_wei)"
      ],
      "execution_count": 13,
      "outputs": [
        {
          "output_type": "execute_result",
          "data": {
            "text/plain": [
              "(array([ 35., 101.,  96., 107.,  88.,  42.,  16.,   8.,   1.,   6.]),\n",
              " array([0.03872436, 0.29716883, 0.5556133 , 0.81405777, 1.07250224,\n",
              "        1.33094671, 1.58939117, 1.84783564, 2.10628011, 2.36472458,\n",
              "        2.62316905]),\n",
              " <a list of 10 Patch objects>)"
            ]
          },
          "metadata": {
            "tags": []
          },
          "execution_count": 13
        },
        {
          "output_type": "display_data",
          "data": {
            "image/png": "[encoded data removed]",
            "text/plain": [
              "<Figure size 432x288 with 1 Axes>"
            ]
          },
          "metadata": {
            "tags": [],
            "needs_background": "light"
          }
        }
      ]
    },
    {
      "cell_type": "code",
      "metadata": {
        "id": "wuSqj4mZu4Qu",
        "outputId": "d3a120b9-790d-41c9-e2e5-752d889920cc",
        "colab": {
          "base_uri": "https://localhost:8080/",
          "height": 1000
        }
      },
      "source": [
        "stats.probplot(x_wei, plot=plt)"
      ],
      "execution_count": 14,
      "outputs": [
        {
          "output_type": "execute_result",
          "data": {
            "text/plain": [
              "((array([-2.99209858e+00, -2.71015927e+00, -2.55162541e+00, -2.43921385e+00,\n",
              "         -2.35113311e+00, -2.27822091e+00, -2.21572267e+00, -2.16084152e+00,\n",
              "         -2.11178767e+00, -2.06734403e+00, -2.02664403e+00, -1.98904794e+00,\n",
              "         -1.95406954e+00, -1.92133033e+00, -1.89052965e+00, -1.86142459e+00,\n",
              "         -1.83381593e+00, -1.80753820e+00, -1.78245240e+00, -1.75844061e+00,\n",
              "         -1.73540186e+00, -1.71324904e+00, -1.69190643e+00, -1.67130780e+00,\n",
              "         -1.65139483e+00, -1.63211595e+00, -1.61342528e+00, -1.59528183e+00,\n",
              "         -1.57764883e+00, -1.56049314e+00, -1.54378481e+00, -1.52749667e+00,\n",
              "         -1.51160399e+00, -1.49608418e+00, -1.48091659e+00, -1.46608224e+00,\n",
              "         -1.45156367e+00, -1.43734479e+00, -1.42341071e+00, -1.40974764e+00,\n",
              "         -1.39634279e+00, -1.38318426e+00, -1.37026095e+00, -1.35756253e+00,\n",
              "         -1.34507932e+00, -1.33280226e+00, -1.32072287e+00, -1.30883317e+00,\n",
              "         -1.29712567e+00, -1.28559331e+00, -1.27422944e+00, -1.26302778e+00,\n",
              "         -1.25198239e+00, -1.24108768e+00, -1.23033831e+00, -1.21972926e+00,\n",
              "         -1.20925574e+00, -1.19891322e+00, -1.18869738e+00, -1.17860411e+00,\n",
              "         -1.16862950e+00, -1.15876983e+00, -1.14902154e+00, -1.13938123e+00,\n",
              "         -1.12984566e+00, -1.12041173e+00, -1.11107648e+00, -1.10183707e+00,\n",
              "         -1.09269077e+00, -1.08363498e+00, -1.07466719e+00, -1.06578501e+00,\n",
              "         -1.05698612e+00, -1.04826831e+00, -1.03962946e+00, -1.03106750e+00,\n",
              "         -1.02258046e+00, -1.01416645e+00, -1.00582364e+00, -9.97550247e-01,\n",
              "         -9.89344581e-01, -9.81204996e-01, -9.73129904e-01, -9.65117774e-01,\n",
              "         -9.57167125e-01, -9.49276525e-01, -9.41444591e-01, -9.33669982e-01,\n",
              "         -9.25951403e-01, -9.18287599e-01, -9.10677353e-01, -9.03119487e-01,\n",
              "         -8.95612861e-01, -8.88156365e-01, -8.80748927e-01, -8.73389502e-01,\n",
              "         -8.66077081e-01, -8.58810678e-01, -8.51589342e-01, -8.44412143e-01,\n",
              "         -8.37278180e-01, -8.30186576e-01, -8.23136480e-01, -8.16127061e-01,\n",
              "         -8.09157513e-01, -8.02227049e-01, -7.95334905e-01, -7.88480336e-01,\n",
              "         -7.81662614e-01, -7.74881033e-01, -7.68134903e-01, -7.61423551e-01,\n",
              "         -7.54746322e-01, -7.48102575e-01, -7.41491685e-01, -7.34913044e-01,\n",
              "         -7.28366057e-01, -7.21850142e-01, -7.15364731e-01, -7.08909270e-01,\n",
              "         -7.02483218e-01, -6.96086043e-01, -6.89717230e-01, -6.83376271e-01,\n",
              "         -6.77062670e-01, -6.70775943e-01, -6.64515617e-01, -6.58281226e-01,\n",
              "         -6.52072317e-01, -6.45888445e-01, -6.39729174e-01, -6.33594076e-01,\n",
              "         -6.27482735e-01, -6.21394740e-01, -6.15329690e-01, -6.09287191e-01,\n",
              "         -6.03266856e-01, -5.97268307e-01, -5.91291174e-01, -5.85335090e-01,\n",
              "         -5.79399700e-01, -5.73484651e-01, -5.67589599e-01, -5.61714207e-01,\n",
              "         -5.55858142e-01, -5.50021077e-01, -5.44202692e-01, -5.38402673e-01,\n",
              "         -5.32620709e-01, -5.26856497e-01, -5.21109737e-01, -5.15380136e-01,\n",
              "         -5.09667405e-01, -5.03971258e-01, -4.98291417e-01, -4.92627606e-01,\n",
              "         -4.86979553e-01, -4.81346993e-01, -4.75729663e-01, -4.70127305e-01,\n",
              "         -4.64539663e-01, -4.58966488e-01, -4.53407532e-01, -4.47862553e-01,\n",
              "         -4.42331309e-01, -4.36813566e-01, -4.31309089e-01, -4.25817651e-01,\n",
              "         -4.20339023e-01, -4.14872983e-01, -4.09419311e-01, -4.03977788e-01,\n",
              "         -3.98548202e-01, -3.93130339e-01, -3.87723992e-01, -3.82328953e-01,\n",
              "         -3.76945020e-01, -3.71571992e-01, -3.66209669e-01, -3.60857856e-01,\n",
              "         -3.55516359e-01, -3.50184986e-01, -3.44863547e-01, -3.39551857e-01,\n",
              "         -3.34249730e-01, -3.28956983e-01, -3.23673435e-01, -3.18398908e-01,\n",
              "         -3.13133223e-01, -3.07876207e-01, -3.02627686e-01, -2.97387487e-01,\n",
              "         -2.92155443e-01, -2.86931384e-01, -2.81715143e-01, -2.76506557e-01,\n",
              "         -2.71305462e-01, -2.66111695e-01, -2.60925097e-01, -2.55745509e-01,\n",
              "         -2.50572773e-01, -2.45406732e-01, -2.40247233e-01, -2.35094122e-01,\n",
              "         -2.29947246e-01, -2.24806454e-01, -2.19671596e-01, -2.14542524e-01,\n",
              "         -2.09419090e-01, -2.04301147e-01, -1.99188550e-01, -1.94081154e-01,\n",
              "         -1.88978816e-01, -1.83881393e-01, -1.78788743e-01, -1.73700727e-01,\n",
              "         -1.68617203e-01, -1.63538032e-01, -1.58463078e-01, -1.53392201e-01,\n",
              "         -1.48325265e-01, -1.43262135e-01, -1.38202675e-01, -1.33146749e-01,\n",
              "         -1.28094226e-01, -1.23044970e-01, -1.17998849e-01, -1.12955731e-01,\n",
              "         -1.07915484e-01, -1.02877978e-01, -9.78430801e-02, -9.28106619e-02,\n",
              "         -8.77805930e-02, -8.27527442e-02, -7.77269864e-02, -7.27031911e-02,\n",
              "         -6.76812301e-02, -6.26609755e-02, -5.76422995e-02, -5.26250751e-02,\n",
              "         -4.76091750e-02, -4.25944724e-02, -3.75808407e-02, -3.25681535e-02,\n",
              "         -2.75562846e-02, -2.25451077e-02, -1.75344969e-02, -1.25243263e-02,\n",
              "         -7.51447003e-03, -2.50480239e-03,  2.50480239e-03,  7.51447003e-03,\n",
              "          1.25243263e-02,  1.75344969e-02,  2.25451077e-02,  2.75562846e-02,\n",
              "          3.25681535e-02,  3.75808407e-02,  4.25944724e-02,  4.76091750e-02,\n",
              "          5.26250751e-02,  5.76422995e-02,  6.26609755e-02,  6.76812301e-02,\n",
              "          7.27031911e-02,  7.77269864e-02,  8.27527442e-02,  8.77805930e-02,\n",
              "          9.28106619e-02,  9.78430801e-02,  1.02877978e-01,  1.07915484e-01,\n",
              "          1.12955731e-01,  1.17998849e-01,  1.23044970e-01,  1.28094226e-01,\n",
              "          1.33146749e-01,  1.38202675e-01,  1.43262135e-01,  1.48325265e-01,\n",
              "          1.53392201e-01,  1.58463078e-01,  1.63538032e-01,  1.68617203e-01,\n",
              "          1.73700727e-01,  1.78788743e-01,  1.83881393e-01,  1.88978816e-01,\n",
              "          1.94081154e-01,  1.99188550e-01,  2.04301147e-01,  2.09419090e-01,\n",
              "          2.14542524e-01,  2.19671596e-01,  2.24806454e-01,  2.29947246e-01,\n",
              "          2.35094122e-01,  2.40247233e-01,  2.45406732e-01,  2.50572773e-01,\n",
              "          2.55745509e-01,  2.60925097e-01,  2.66111695e-01,  2.71305462e-01,\n",
              "          2.76506557e-01,  2.81715143e-01,  2.86931384e-01,  2.92155443e-01,\n",
              "          2.97387487e-01,  3.02627686e-01,  3.07876207e-01,  3.13133223e-01,\n",
              "          3.18398908e-01,  3.23673435e-01,  3.28956983e-01,  3.34249730e-01,\n",
              "          3.39551857e-01,  3.44863547e-01,  3.50184986e-01,  3.55516359e-01,\n",
              "          3.60857856e-01,  3.66209669e-01,  3.71571992e-01,  3.76945020e-01,\n",
              "          3.82328953e-01,  3.87723992e-01,  3.93130339e-01,  3.98548202e-01,\n",
              "          4.03977788e-01,  4.09419311e-01,  4.14872983e-01,  4.20339023e-01,\n",
              "          4.25817651e-01,  4.31309089e-01,  4.36813566e-01,  4.42331309e-01,\n",
              "          4.47862553e-01,  4.53407532e-01,  4.58966488e-01,  4.64539663e-01,\n",
              "          4.70127305e-01,  4.75729663e-01,  4.81346993e-01,  4.86979553e-01,\n",
              "          4.92627606e-01,  4.98291417e-01,  5.03971258e-01,  5.09667405e-01,\n",
              "          5.15380136e-01,  5.21109737e-01,  5.26856497e-01,  5.32620709e-01,\n",
              "          5.38402673e-01,  5.44202692e-01,  5.50021077e-01,  5.55858142e-01,\n",
              "          5.61714207e-01,  5.67589599e-01,  5.73484651e-01,  5.79399700e-01,\n",
              "          5.85335090e-01,  5.91291174e-01,  5.97268307e-01,  6.03266856e-01,\n",
              "          6.09287191e-01,  6.15329690e-01,  6.21394740e-01,  6.27482735e-01,\n",
              "          6.33594076e-01,  6.39729174e-01,  6.45888445e-01,  6.52072317e-01,\n",
              "          6.58281226e-01,  6.64515617e-01,  6.70775943e-01,  6.77062670e-01,\n",
              "          6.83376271e-01,  6.89717230e-01,  6.96086043e-01,  7.02483218e-01,\n",
              "          7.08909270e-01,  7.15364731e-01,  7.21850142e-01,  7.28366057e-01,\n",
              "          7.34913044e-01,  7.41491685e-01,  7.48102575e-01,  7.54746322e-01,\n",
              "          7.61423551e-01,  7.68134903e-01,  7.74881033e-01,  7.81662614e-01,\n",
              "          7.88480336e-01,  7.95334905e-01,  8.02227049e-01,  8.09157513e-01,\n",
              "          8.16127061e-01,  8.23136480e-01,  8.30186576e-01,  8.37278180e-01,\n",
              "          8.44412143e-01,  8.51589342e-01,  8.58810678e-01,  8.66077081e-01,\n",
              "          8.73389502e-01,  8.80748927e-01,  8.88156365e-01,  8.95612861e-01,\n",
              "          9.03119487e-01,  9.10677353e-01,  9.18287599e-01,  9.25951403e-01,\n",
              "          9.33669982e-01,  9.41444591e-01,  9.49276525e-01,  9.57167125e-01,\n",
              "          9.65117774e-01,  9.73129904e-01,  9.81204996e-01,  9.89344581e-01,\n",
              "          9.97550247e-01,  1.00582364e+00,  1.01416645e+00,  1.02258046e+00,\n",
              "          1.03106750e+00,  1.03962946e+00,  1.04826831e+00,  1.05698612e+00,\n",
              "          1.06578501e+00,  1.07466719e+00,  1.08363498e+00,  1.09269077e+00,\n",
              "          1.10183707e+00,  1.11107648e+00,  1.12041173e+00,  1.12984566e+00,\n",
              "          1.13938123e+00,  1.14902154e+00,  1.15876983e+00,  1.16862950e+00,\n",
              "          1.17860411e+00,  1.18869738e+00,  1.19891322e+00,  1.20925574e+00,\n",
              "          1.21972926e+00,  1.23033831e+00,  1.24108768e+00,  1.25198239e+00,\n",
              "          1.26302778e+00,  1.27422944e+00,  1.28559331e+00,  1.29712567e+00,\n",
              "          1.30883317e+00,  1.32072287e+00,  1.33280226e+00,  1.34507932e+00,\n",
              "          1.35756253e+00,  1.37026095e+00,  1.38318426e+00,  1.39634279e+00,\n",
              "          1.40974764e+00,  1.42341071e+00,  1.43734479e+00,  1.45156367e+00,\n",
              "          1.46608224e+00,  1.48091659e+00,  1.49608418e+00,  1.51160399e+00,\n",
              "          1.52749667e+00,  1.54378481e+00,  1.56049314e+00,  1.57764883e+00,\n",
              "          1.59528183e+00,  1.61342528e+00,  1.63211595e+00,  1.65139483e+00,\n",
              "          1.67130780e+00,  1.69190643e+00,  1.71324904e+00,  1.73540186e+00,\n",
              "          1.75844061e+00,  1.78245240e+00,  1.80753820e+00,  1.83381593e+00,\n",
              "          1.86142459e+00,  1.89052965e+00,  1.92133033e+00,  1.95406954e+00,\n",
              "          1.98904794e+00,  2.02664403e+00,  2.06734403e+00,  2.11178767e+00,\n",
              "          2.16084152e+00,  2.21572267e+00,  2.27822091e+00,  2.35113311e+00,\n",
              "          2.43921385e+00,  2.55162541e+00,  2.71015927e+00,  2.99209858e+00]),\n",
              "  array([0.03872436, 0.07904987, 0.08095338, 0.10291688, 0.10388671,\n",
              "         0.10575002, 0.12084547, 0.1376702 , 0.14416503, 0.16061759,\n",
              "         0.17812597, 0.18622286, 0.19128335, 0.19520934, 0.20362513,\n",
              "         0.20555726, 0.21521688, 0.21997737, 0.22056912, 0.22280039,\n",
              "         0.22833663, 0.22955759, 0.23810904, 0.24516615, 0.24596542,\n",
              "         0.24682836, 0.24852733, 0.25140698, 0.26614916, 0.26647773,\n",
              "         0.26797917, 0.28460801, 0.28655414, 0.29174299, 0.29453532,\n",
              "         0.29890118, 0.30045231, 0.30343398, 0.30425428, 0.30725385,\n",
              "         0.30874242, 0.30894835, 0.31179627, 0.32036951, 0.32273087,\n",
              "         0.32317606, 0.32443201, 0.32550646, 0.32723484, 0.329141  ,\n",
              "         0.33442187, 0.33520601, 0.33574616, 0.33578016, 0.34289396,\n",
              "         0.34349214, 0.34386652, 0.34497914, 0.34589375, 0.34948083,\n",
              "         0.35511422, 0.35914022, 0.36043794, 0.36668013, 0.3738735 ,\n",
              "         0.37614112, 0.37733086, 0.37925817, 0.37946033, 0.38163153,\n",
              "         0.38194389, 0.3838644 , 0.38413773, 0.38596252, 0.38785179,\n",
              "         0.38851943, 0.39913795, 0.39945368, 0.39978028, 0.40012755,\n",
              "         0.41584584, 0.4183363 , 0.41992003, 0.42227373, 0.42550961,\n",
              "         0.42883449, 0.43054428, 0.43055662, 0.4343481 , 0.43451986,\n",
              "         0.43746305, 0.43787325, 0.43863185, 0.43939078, 0.43963096,\n",
              "         0.43972207, 0.44248916, 0.44886265, 0.44963335, 0.4544892 ,\n",
              "         0.46416688, 0.46656462, 0.46730473, 0.46776925, 0.46957126,\n",
              "         0.46988653, 0.47242403, 0.47439772, 0.47860434, 0.48272837,\n",
              "         0.49099835, 0.49155879, 0.49728276, 0.49843512, 0.50056998,\n",
              "         0.50148787, 0.5025167 , 0.50965301, 0.51036471, 0.51407269,\n",
              "         0.51477318, 0.51670797, 0.52476429, 0.52544503, 0.52593078,\n",
              "         0.52712308, 0.5282618 , 0.53303162, 0.53514716, 0.53612587,\n",
              "         0.54134948, 0.54149083, 0.54349792, 0.55030379, 0.55234387,\n",
              "         0.5533969 , 0.5618217 , 0.56520321, 0.56624387, 0.56657756,\n",
              "         0.57201117, 0.57226912, 0.57337806, 0.57446643, 0.57589842,\n",
              "         0.57825995, 0.58780326, 0.58810698, 0.59190522, 0.5949695 ,\n",
              "         0.59759901, 0.59791756, 0.6010813 , 0.60385898, 0.60583469,\n",
              "         0.60621704, 0.60711522, 0.60727915, 0.60748147, 0.60805858,\n",
              "         0.61147375, 0.61228705, 0.61268645, 0.6131916 , 0.61370484,\n",
              "         0.6196786 , 0.62630251, 0.62807454, 0.62953348, 0.62977862,\n",
              "         0.63132648, 0.6317995 , 0.63210046, 0.63650571, 0.63895972,\n",
              "         0.63914401, 0.64163811, 0.64595612, 0.64627708, 0.64647382,\n",
              "         0.6484394 , 0.64962051, 0.65359791, 0.65723644, 0.65859897,\n",
              "         0.66191112, 0.66282078, 0.66291951, 0.66816374, 0.6721626 ,\n",
              "         0.67515346, 0.67535704, 0.68031507, 0.68296459, 0.68593246,\n",
              "         0.68813499, 0.68917387, 0.69131471, 0.69827435, 0.7005015 ,\n",
              "         0.70702409, 0.71335516, 0.7136868 , 0.71510477, 0.71539948,\n",
              "         0.71697047, 0.72094734, 0.72862995, 0.72918355, 0.72990897,\n",
              "         0.73005668, 0.73424645, 0.73636868, 0.7415315 , 0.74628586,\n",
              "         0.74800995, 0.75687041, 0.75754006, 0.75864623, 0.76804646,\n",
              "         0.77043553, 0.77072004, 0.77495564, 0.77974091, 0.7825412 ,\n",
              "         0.78353774, 0.78653172, 0.79391541, 0.7943618 , 0.80253254,\n",
              "         0.81073966, 0.81374384, 0.81682067, 0.8218308 , 0.82309764,\n",
              "         0.82341127, 0.82462289, 0.82534312, 0.82577807, 0.82688525,\n",
              "         0.8316961 , 0.83419936, 0.837448  , 0.83765299, 0.84411823,\n",
              "         0.84525573, 0.8506846 , 0.85333156, 0.85374149, 0.85800571,\n",
              "         0.85809615, 0.85825197, 0.85978445, 0.86575469, 0.86588233,\n",
              "         0.86604971, 0.86610023, 0.8760329 , 0.88012082, 0.88074953,\n",
              "         0.8824526 , 0.88995839, 0.89045877, 0.89102093, 0.89198691,\n",
              "         0.89640586, 0.89847262, 0.90072475, 0.90310077, 0.90315487,\n",
              "         0.90449651, 0.90979716, 0.91009369, 0.91347562, 0.9163326 ,\n",
              "         0.91652876, 0.92034652, 0.92121038, 0.92390957, 0.92492822,\n",
              "         0.93083826, 0.93090397, 0.93112819, 0.9329134 , 0.9356875 ,\n",
              "         0.93637461, 0.93684131, 0.93926877, 0.94141421, 0.95433916,\n",
              "         0.95477395, 0.95609456, 0.95694884, 0.95722781, 0.96023885,\n",
              "         0.9623431 , 0.96287153, 0.96327318, 0.96338233, 0.96560203,\n",
              "         0.96648632, 0.96663014, 0.97081609, 0.97391739, 0.97437772,\n",
              "         0.97581302, 0.97653058, 0.97906514, 0.98402829, 0.98555629,\n",
              "         0.98874724, 0.98917077, 0.99042734, 0.99372083, 0.99448255,\n",
              "         0.99714722, 0.99752577, 1.00222066, 1.01170712, 1.0149523 ,\n",
              "         1.01635268, 1.01824192, 1.01894569, 1.01943321, 1.0220268 ,\n",
              "         1.02529844, 1.02660854, 1.0266639 , 1.02692103, 1.032721  ,\n",
              "         1.0336396 , 1.041154  , 1.0473465 , 1.04835181, 1.05823769,\n",
              "         1.05914351, 1.06525273, 1.06564311, 1.06688879, 1.07836516,\n",
              "         1.08287011, 1.0865235 , 1.09358354, 1.09668585, 1.10172514,\n",
              "         1.10697807, 1.10734723, 1.10736072, 1.11309962, 1.11538755,\n",
              "         1.11558714, 1.12416202, 1.12587051, 1.12680481, 1.12896116,\n",
              "         1.14014109, 1.14140129, 1.14291831, 1.14626759, 1.14868588,\n",
              "         1.1534822 , 1.15549433, 1.15793968, 1.15872836, 1.15880061,\n",
              "         1.16016311, 1.16325397, 1.16343275, 1.16439834, 1.17470805,\n",
              "         1.178023  , 1.17859144, 1.17928935, 1.18441152, 1.18633533,\n",
              "         1.18788815, 1.18870565, 1.19123494, 1.19170882, 1.19192045,\n",
              "         1.19249989, 1.19349354, 1.19809579, 1.20098051, 1.2028548 ,\n",
              "         1.20891183, 1.21107857, 1.21162945, 1.21179642, 1.21577933,\n",
              "         1.22732503, 1.23775608, 1.24005987, 1.24017831, 1.24217297,\n",
              "         1.2457709 , 1.25195396, 1.25649888, 1.26426204, 1.27401029,\n",
              "         1.27512151, 1.27602676, 1.27837342, 1.28616331, 1.28657203,\n",
              "         1.28825158, 1.28932729, 1.28942888, 1.29096636, 1.29264875,\n",
              "         1.29912442, 1.30331864, 1.30469254, 1.30725812, 1.31149781,\n",
              "         1.31244296, 1.31500805, 1.31531604, 1.31552446, 1.31641356,\n",
              "         1.31815315, 1.32134409, 1.32286661, 1.32354607, 1.32572773,\n",
              "         1.32582248, 1.32711526, 1.33102276, 1.34078085, 1.3441323 ,\n",
              "         1.3477961 , 1.35186757, 1.35643721, 1.36044066, 1.37241173,\n",
              "         1.37634245, 1.38981703, 1.39112308, 1.39566411, 1.40034838,\n",
              "         1.40219825, 1.40366383, 1.40647509, 1.41208628, 1.41475323,\n",
              "         1.42019765, 1.42092717, 1.4268956 , 1.42693009, 1.42738132,\n",
              "         1.43148684, 1.4324745 , 1.45681826, 1.4675903 , 1.47055149,\n",
              "         1.47168075, 1.48133455, 1.49488622, 1.50350635, 1.50563014,\n",
              "         1.51326423, 1.52785779, 1.54166504, 1.54264436, 1.5477849 ,\n",
              "         1.55268305, 1.56412655, 1.57254405, 1.57717808, 1.59074982,\n",
              "         1.59083526, 1.59165876, 1.60075938, 1.62108049, 1.63108089,\n",
              "         1.63137597, 1.63145752, 1.63311492, 1.63404204, 1.64509942,\n",
              "         1.64622022, 1.65355731, 1.6711034 , 1.68495328, 1.79378067,\n",
              "         1.86691937, 1.87232795, 1.89719789, 1.91444514, 1.93132565,\n",
              "         1.96492336, 2.09120273, 2.10049194, 2.35637176, 2.37865001,\n",
              "         2.39217031, 2.43557653, 2.47597753, 2.55685782, 2.62316905])),\n",
              " (0.4487770525739118, 0.8811739298586442, 0.9819152494713023))"
            ]
          },
          "metadata": {
            "tags": []
          },
          "execution_count": 14
        },
        {
          "output_type": "display_data",
          "data": {
            "image/png": "[encoded data removed]",
            "text/plain": [
              "<Figure size 432x288 with 1 Axes>"
            ]
          },
          "metadata": {
            "tags": [],
            "needs_background": "light"
          }
        }
      ]
    },
    {
      "cell_type": "code",
      "metadata": {
        "id": "hE6TN2R-vG_i",
        "outputId": "c41057d4-70db-468a-eb48-499014616476",
        "colab": {
          "base_uri": "https://localhost:8080/",
          "height": 35
        }
      },
      "source": [
        "print(np.mean(x_norm))"
      ],
      "execution_count": 15,
      "outputs": [
        {
          "output_type": "stream",
          "text": [
            "50.01292486650068\n"
          ],
          "name": "stdout"
        }
      ]
    },
    {
      "cell_type": "code",
      "metadata": {
        "id": "WvHjGw_0vMvv",
        "outputId": "aa73cfe0-4f43-4482-c506-2deda53262bd",
        "colab": {
          "base_uri": "https://localhost:8080/",
          "height": 52
        }
      },
      "source": [
        "x_gamma = np.random.gamma(3.5, 0.5, 200) # simulate a gamma distribution of shape 3.5 and scale (λ) 0.5\n",
        "mean_x_gamma = np.mean(x_gamma) # mean of the data\n",
        "var_x_gamma = np.var(x_gamma) # variance of the data\n",
        "l_est = mean_x_gamma / var_x_gamma # lambda estimation (rate)\n",
        "a_est = (mean_x_gamma ** 2) / l_est # alpha estimation\n",
        "print('Lambda estimation: {}'.format(l_est))\n",
        "print('Alpha estimation: {}'.format(a_est))"
      ],
      "execution_count": 17,
      "outputs": [
        {
          "output_type": "stream",
          "text": [
            "Lambda estimation: 1.7369553974122665\n",
            "Alpha estimation: 1.9225526324028357\n"
          ],
          "name": "stdout"
        }
      ]
    },
    {
      "cell_type": "code",
      "metadata": {
        "id": "av1DXSnmvX2B",
        "outputId": "47861c73-aad9-426e-fc8c-938b6fafce23",
        "colab": {
          "base_uri": "https://localhost:8080/",
          "height": 488
        }
      },
      "source": [
        "# generate data\n",
        "x = np.linspace(0,20, len(x_gamma))\n",
        "y = 3*x + x_gamma\n",
        "import statsmodels.api as sm\n",
        "ols = sm.OLS(y, x_gamma).fit()\n",
        "print(ols.summary())"
      ],
      "execution_count": 18,
      "outputs": [
        {
          "output_type": "stream",
          "text": [
            "/usr/local/lib/python3.6/dist-packages/statsmodels/tools/_testing.py:19: FutureWarning: pandas.util.testing is deprecated. Use the functions in the public API at pandas.testing instead.\n",
            "  import pandas.util.testing as tm\n"
          ],
          "name": "stderr"
        },
        {
          "output_type": "stream",
          "text": [
            "                                 OLS Regression Results                                \n",
            "=======================================================================================\n",
            "Dep. Variable:                      y   R-squared (uncentered):                   0.573\n",
            "Model:                            OLS   Adj. R-squared (uncentered):              0.571\n",
            "Method:                 Least Squares   F-statistic:                              267.5\n",
            "Date:                Wed, 14 Oct 2020   Prob (F-statistic):                    1.13e-38\n",
            "Time:                        06:13:04   Log-Likelihood:                         -916.65\n",
            "No. Observations:                 200   AIC:                                      1835.\n",
            "Df Residuals:                     199   BIC:                                      1839.\n",
            "Df Model:                           1                                                  \n",
            "Covariance Type:            nonrobust                                                  \n",
            "==============================================================================\n",
            "                 coef    std err          t      P>|t|      [0.025      0.975]\n",
            "------------------------------------------------------------------------------\n",
            "x1            13.0972      0.801     16.356      0.000      11.518      14.676\n",
            "==============================================================================\n",
            "Omnibus:                        4.498   Durbin-Watson:                   0.499\n",
            "Prob(Omnibus):                  0.105   Jarque-Bera (JB):                4.466\n",
            "Skew:                          -0.328   Prob(JB):                        0.107\n",
            "Kurtosis:                       2.675   Cond. No.                         1.00\n",
            "==============================================================================\n",
            "\n",
            "Warnings:\n",
            "[1] Standard Errors assume that the covariance matrix of the errors is correctly specified.\n"
          ],
          "name": "stdout"
        }
      ]
    },
    {
      "cell_type": "code",
      "metadata": {
        "id": "OUMVLnckvdkk",
        "outputId": "ef02fac4-e56c-4697-c8fb-99305ba8f5a2",
        "colab": {
          "base_uri": "https://localhost:8080/",
          "height": 609
        }
      },
      "source": [
        "pip install fitter\n"
      ],
      "execution_count": 20,
      "outputs": [
        {
          "output_type": "stream",
          "text": [
            "Collecting fitter\n",
            "  Downloading https://files.pythonhosted.org/packages/62/44/d57f7b44c015859690f6e4e6232da0abed08e5bb161959564fed07622a14/fitter-1.3.0.tar.gz\n",
            "Collecting easydev\n",
            "\u001b[?25l  Downloading https://files.pythonhosted.org/packages/02/35/e9b336078a4aea3062c4f4ac78ad9938d86f0d2cea0d9f3f462d784971b8/easydev-0.10.1.tar.gz (50kB)\n",
            "\u001b[K     |████████████████████████████████| 51kB 1.9MB/s \n",
            "\u001b[?25hRequirement already satisfied: numpy in /usr/local/lib/python3.6/dist-packages (from fitter) (1.18.5)\n",
            "Requirement already satisfied: matplotlib in /usr/local/lib/python3.6/dist-packages (from fitter) (3.2.2)\n",
            "Requirement already satisfied: scipy>=0.18 in /usr/local/lib/python3.6/dist-packages (from fitter) (1.4.1)\n",
            "Requirement already satisfied: pandas in /usr/local/lib/python3.6/dist-packages (from fitter) (1.1.2)\n",
            "Requirement already satisfied: click in /usr/local/lib/python3.6/dist-packages (from fitter) (7.1.2)\n",
            "Requirement already satisfied: joblib in /usr/local/lib/python3.6/dist-packages (from fitter) (0.16.0)\n",
            "Collecting colorama\n",
            "  Downloading https://files.pythonhosted.org/packages/44/98/5b86278fbbf250d239ae0ecb724f8572af1c91f4a11edf4d36a206189440/colorama-0.4.4-py2.py3-none-any.whl\n",
            "Requirement already satisfied: pexpect in /usr/local/lib/python3.6/dist-packages (from easydev->fitter) (4.8.0)\n",
            "Collecting colorlog\n",
            "  Downloading https://files.pythonhosted.org/packages/8c/10/0b39be7ff1adb8888fe87c8628c071dec5ac282ac1c2312221f5feb09215/colorlog-4.4.0-py2.py3-none-any.whl\n",
            "Requirement already satisfied: pyparsing!=2.0.4,!=2.1.2,!=2.1.6,>=2.0.1 in /usr/local/lib/python3.6/dist-packages (from matplotlib->fitter) (2.4.7)\n",
            "Requirement already satisfied: cycler>=0.10 in /usr/local/lib/python3.6/dist-packages (from matplotlib->fitter) (0.10.0)\n",
            "Requirement already satisfied: python-dateutil>=2.1 in /usr/local/lib/python3.6/dist-packages (from matplotlib->fitter) (2.8.1)\n",
            "Requirement already satisfied: kiwisolver>=1.0.1 in /usr/local/lib/python3.6/dist-packages (from matplotlib->fitter) (1.2.0)\n",
            "Requirement already satisfied: pytz>=2017.2 in /usr/local/lib/python3.6/dist-packages (from pandas->fitter) (2018.9)\n",
            "Requirement already satisfied: ptyprocess>=0.5 in /usr/local/lib/python3.6/dist-packages (from pexpect->easydev->fitter) (0.6.0)\n",
            "Requirement already satisfied: six in /usr/local/lib/python3.6/dist-packages (from cycler>=0.10->matplotlib->fitter) (1.15.0)\n",
            "Building wheels for collected packages: fitter, easydev\n",
            "  Building wheel for fitter (setup.py) ... \u001b[?25l\u001b[?25hdone\n",
            "  Created wheel for fitter: filename=fitter-1.3.0-cp36-none-any.whl size=24743 sha256=2583c90011dbb96ede45279afe423a73c9cfbcc22ec45430bbe928ed2b86279d\n",
            "  Stored in directory: /root/.cache/pip/wheels/80/d8/0f/3dba85fa574e0e489ca900bb0055d3394c103ae46210d04945\n",
            "  Building wheel for easydev (setup.py) ... \u001b[?25l\u001b[?25hdone\n",
            "  Created wheel for easydev: filename=easydev-0.10.1-cp36-none-any.whl size=68367 sha256=62e4447acad8524e1e3ee8c468b0c5581226a36db1a2be9bbd2d6a76a6bc94b3\n",
            "  Stored in directory: /root/.cache/pip/wheels/46/6d/c5/fc8db417188e230edbe9176d680873527aac7d1cdb48318855\n",
            "Successfully built fitter easydev\n",
            "Installing collected packages: colorama, colorlog, easydev, fitter\n",
            "Successfully installed colorama-0.4.4 colorlog-4.4.0 easydev-0.10.1 fitter-1.3.0\n"
          ],
          "name": "stdout"
        }
      ]
    },
    {
      "cell_type": "code",
      "metadata": {
        "id": "PxhH0fQCvp3e",
        "outputId": "a6052d44-6da0-427d-f3c6-3276a872b587",
        "colab": {
          "base_uri": "https://localhost:8080/",
          "height": 410
        }
      },
      "source": [
        "from fitter import Fitter\n",
        "f = Fitter(x_gamma, distributions=['gamma', 'dweibull', 'uniform'])\n",
        "f.fit()\n",
        "f.summary()"
      ],
      "execution_count": 21,
      "outputs": [
        {
          "output_type": "display_data",
          "data": {
            "text/html": [
              "\n",
              "            <div style=\"float: left; border: 1px solid black; width:500px\">\n",
              "              <div id=\"2991fcce-9a7c-47bd-88c6-a67996c56cac\" style=\"background-color:blue; width:0%\">&nbsp;</div>\n",
              "            </div>\n",
              "            <label id=\"52182ce4-8511-4756-8885-a2acedc043cc\" style=\"padding-left: 10px;\" text = \"\"/>\n",
              "            "
            ],
            "text/plain": [
              "<IPython.core.display.HTML object>"
            ]
          },
          "metadata": {
            "tags": []
          }
        },
        {
          "output_type": "execute_result",
          "data": {
            "text/html": [
              "<div>\n",
              "<style scoped>\n",
              "    .dataframe tbody tr th:only-of-type {\n",
              "        vertical-align: middle;\n",
              "    }\n",
              "\n",
              "    .dataframe tbody tr th {\n",
              "        vertical-align: top;\n",
              "    }\n",
              "\n",
              "    .dataframe thead th {\n",
              "        text-align: right;\n",
              "    }\n",
              "</style>\n",
              "<table border=\"1\" class=\"dataframe\">\n",
              "  <thead>\n",
              "    <tr style=\"text-align: right;\">\n",
              "      <th></th>\n",
              "      <th>sumsquare_error</th>\n",
              "      <th>aic</th>\n",
              "      <th>bic</th>\n",
              "      <th>kl_div</th>\n",
              "    </tr>\n",
              "  </thead>\n",
              "  <tbody>\n",
              "    <tr>\n",
              "      <th>gamma</th>\n",
              "      <td>1.842635</td>\n",
              "      <td>447.335553</td>\n",
              "      <td>-921.529246</td>\n",
              "      <td>inf</td>\n",
              "    </tr>\n",
              "    <tr>\n",
              "      <th>dweibull</th>\n",
              "      <td>2.035590</td>\n",
              "      <td>506.672978</td>\n",
              "      <td>-901.611384</td>\n",
              "      <td>inf</td>\n",
              "    </tr>\n",
              "    <tr>\n",
              "      <th>uniform</th>\n",
              "      <td>4.268953</td>\n",
              "      <td>335.506979</td>\n",
              "      <td>-758.793130</td>\n",
              "      <td>inf</td>\n",
              "    </tr>\n",
              "  </tbody>\n",
              "</table>\n",
              "</div>"
            ],
            "text/plain": [
              "          sumsquare_error         aic         bic  kl_div\n",
              "gamma            1.842635  447.335553 -921.529246     inf\n",
              "dweibull         2.035590  506.672978 -901.611384     inf\n",
              "uniform          4.268953  335.506979 -758.793130     inf"
            ]
          },
          "metadata": {
            "tags": []
          },
          "execution_count": 21
        },
        {
          "output_type": "display_data",
          "data": {
            "image/png": "[encoded data removed]",
            "text/plain": [
              "<Figure size 432x288 with 1 Axes>"
            ]
          },
          "metadata": {
            "tags": [],
            "needs_background": "light"
          }
        }
      ]
    },
    {
      "cell_type": "code",
      "metadata": {
        "id": "dvRcuE2pvwNx",
        "outputId": "62212908-3d81-427a-d217-754cb08df361",
        "colab": {
          "base_uri": "https://localhost:8080/",
          "height": 52
        }
      },
      "source": [
        "import pandas as pd\n",
        "def dpois(x,mu):\n",
        "  from scipy.stats import poisson\n",
        "  result=poisson.pmf(k=x,mu=mu)\n",
        "  return result\n",
        "\n",
        "x_poi = np.random.poisson(2.5, 200)\n",
        "lambda_est = np.mean(x_poi)\n",
        "table_os = pd.Series(x_poi).value_counts().sort_index().reset_index().reset_index(drop=True)\n",
        "table_os = table_os.values\n",
        "freq_os = []\n",
        "freq_ex = []\n",
        "for i in range(len(table_os)):\n",
        "    freq_os.append(table_os[i][1])\n",
        "    freq_ex.append(dpois(x = range(0, np.max(x_poi) + 1), mu=lambda_est) * 200)\n",
        "from sklearn.metrics import mean_absolute_error\n",
        "acc = mean_absolute_error(freq_os, freq_ex[0])\n",
        "print('Mean absolute error is: {:.2f}'.format(acc))\n",
        "acc_prc = acc / np.mean(freq_os) * 100\n",
        "print('Mean absolute percentage error is: {:.2f}'.format(acc_prc))"
      ],
      "execution_count": 23,
      "outputs": [
        {
          "output_type": "stream",
          "text": [
            "Mean absolute error is: 2.86\n",
            "Mean absolute percentage error is: 11.43\n"
          ],
          "name": "stdout"
        }
      ]
    },
    {
      "cell_type": "code",
      "metadata": {
        "id": "XYj2hZIWwGdv",
        "outputId": "d7e0fd65-79e3-4eda-e788-f808cdf260af",
        "colab": {
          "base_uri": "https://localhost:8080/",
          "height": 513
        }
      },
      "source": [
        "x_norm = np.random.normal(10, 2, 200)\n",
        "(n, bins, patches) = plt.hist(x_norm, bins=15)\n",
        "table_os = pd.Series(x_norm).value_counts().sort_index().reset_index().reset_index(drop=True)\n",
        "table_os = table_os.values\n",
        "def dnorm(x, mean=0, sd =1):\n",
        "  from scipy.stats import norm\n",
        "  result=norm.pdf(x,loc=mean,scale=sd)\n",
        "  return result\n",
        "  \n",
        "x_fit = np.linspace(start=np.min(x_norm), stop=np.max(x_norm))\n",
        "y_fit = dnorm(x_fit, mean=np.mean(x_norm), sd = np.std(x_norm))\n",
        "fig, ax = plt.subplots(1, 1)\n",
        "ax.hist(x_norm, bins=15)\n",
        "ax2 = ax.twinx()\n",
        "ax2.plot(x_fit, y_fit, c='orange')\n",
        "plt.draw()"
      ],
      "execution_count": 25,
      "outputs": [
        {
          "output_type": "display_data",
          "data": {
            "image/png": "[encoded data removed]",
            "text/plain": [
              "<Figure size 432x288 with 1 Axes>"
            ]
          },
          "metadata": {
            "tags": [],
            "needs_background": "light"
          }
        },
        {
          "output_type": "display_data",
          "data": {
            "image/png": "[encoded data removed]",
            "text/plain": [
              "<Figure size 432x288 with 2 Axes>"
            ]
          },
          "metadata": {
            "tags": [],
            "needs_background": "light"
          }
        }
      ]
    },
    {
      "cell_type": "code",
      "metadata": {
        "id": "rNjzMyo7wUUc",
        "outputId": "10acea5b-b028-4d4f-acbd-c3556c04abfa",
        "colab": {
          "base_uri": "https://localhost:8080/",
          "height": 300
        }
      },
      "source": [
        "import scipy\n",
        "obs = np.bincount(x_poi)\n",
        "lam = x_poi.mean()\n",
        "expected = scipy.stats.poisson.pmf(np.arange(len(obs)), lam) * len(x_poi)\n",
        "chi2 = scipy.stats.chisquare(obs, expected)[1]\n",
        "print('Chi-sqaure significance level is: {:.4f}'.format(chi2))\n",
        "\n",
        "plt.bar(list(range(0, len(obs))), height=obs)\n",
        "plt.scatter(list(range(0, len(expected))), expected,c='red')\n",
        "plt.plot(expected,c='red', alpha=.5, linestyle='dashed')"
      ],
      "execution_count": 27,
      "outputs": [
        {
          "output_type": "stream",
          "text": [
            "Chi-sqaure significance level is: 0.5477\n"
          ],
          "name": "stdout"
        },
        {
          "output_type": "execute_result",
          "data": {
            "text/plain": [
              "[<matplotlib.lines.Line2D at 0x7f6031f9dcf8>]"
            ]
          },
          "metadata": {
            "tags": []
          },
          "execution_count": 27
        },
        {
          "output_type": "display_data",
          "data": {
            "image/png": "[encoded data removed]",
            "text/plain": [
              "<Figure size 432x288 with 1 Axes>"
            ]
          },
          "metadata": {
            "tags": [],
            "needs_background": "light"
          }
        }
      ]
    },
    {
      "cell_type": "code",
      "metadata": {
        "id": "zNxZdkvKwhbU",
        "outputId": "9f11c85b-2630-4cfe-d7c5-ee5d2aae02c4",
        "colab": {
          "base_uri": "https://localhost:8080/",
          "height": 369
        }
      },
      "source": [
        "from scipy.stats import gamma\n",
        "a = 3.5 # shape parameter\n",
        "mean, var, skew, kurt = gamma.stats(a, moments='mvsk')\n",
        "x = np.linspace(gamma.ppf(0.01, a), gamma.ppf(0.99, a), 1000) # percent point function\n",
        "# Generate random numbers from the gamma distribution with paramter shape of 3.5\n",
        "r = gamma.rvs(a, size=1000)\n",
        "plt.plot(x, gamma.pdf(x, a), lw=5, alpha=0.6)\n",
        "plt.hist(r, density=True, alpha=0.2)"
      ],
      "execution_count": 29,
      "outputs": [
        {
          "output_type": "execute_result",
          "data": {
            "text/plain": [
              "(array([0.09334261, 0.23121563, 0.22864656, 0.13444761, 0.08820448,\n",
              "        0.041105  , 0.02312156, 0.0094199 , 0.00513813, 0.00171271]),\n",
              " array([ 0.3471077 ,  1.51484884,  2.68258998,  3.85033112,  5.01807226,\n",
              "         6.1858134 ,  7.35355454,  8.52129568,  9.68903682, 10.85677796,\n",
              "        12.0245191 ]),\n",
              " <a list of 10 Patch objects>)"
            ]
          },
          "metadata": {
            "tags": []
          },
          "execution_count": 29
        },
        {
          "output_type": "display_data",
          "data": {
            "image/png": "[encoded data removed]",
            "text/plain": [
              "<Figure size 432x288 with 1 Axes>"
            ]
          },
          "metadata": {
            "tags": [],
            "needs_background": "light"
          }
        }
      ]
    },
    {
      "cell_type": "code",
      "metadata": {
        "id": "jdN_PqlRxMAm",
        "outputId": "8a648ed2-c2e0-464c-9f98-a62b539eaad5",
        "colab": {
          "base_uri": "https://localhost:8080/",
          "height": 35
        }
      },
      "source": [
        "from scipy.stats import chisquare\n",
        "chisquare(r, x)"
      ],
      "execution_count": 30,
      "outputs": [
        {
          "output_type": "execute_result",
          "data": {
            "text/plain": [
              "Power_divergenceResult(statistic=2817.2908464018215, pvalue=1.1530775782101415e-172)"
            ]
          },
          "metadata": {
            "tags": []
          },
          "execution_count": 30
        }
      ]
    },
    {
      "cell_type": "code",
      "metadata": {
        "id": "c-7pPwrhxSzg",
        "outputId": "33d27239-5778-48c5-bb7e-26599de4b0c5",
        "colab": {
          "base_uri": "https://localhost:8080/",
          "height": 35
        }
      },
      "source": [
        "from scipy.stats import ks_2samp\n",
        "from scipy.stats import poisson\n",
        "mu = 0.6 # shape parameter\n",
        "r = poisson.rvs(mu, size=1000)\n",
        "r1 = poisson.rvs(mu, size=1000)\n",
        "ks_2samp(r, r1)"
      ],
      "execution_count": 31,
      "outputs": [
        {
          "output_type": "execute_result",
          "data": {
            "text/plain": [
              "Ks_2sampResult(statistic=0.005, pvalue=1.0)"
            ]
          },
          "metadata": {
            "tags": []
          },
          "execution_count": 31
        }
      ]
    },
    {
      "cell_type": "code",
      "metadata": {
        "id": "nn5zClY8xVzu",
        "outputId": "51597110-b037-45ed-c220-418cdb9ca9ea",
        "colab": {
          "base_uri": "https://localhost:8080/",
          "height": 35
        }
      },
      "source": [
        "from scipy.stats import norm\n",
        "n = norm.rvs(0.6, size=1000)\n",
        "ks_2samp(r, n)"
      ],
      "execution_count": 32,
      "outputs": [
        {
          "output_type": "execute_result",
          "data": {
            "text/plain": [
              "Ks_2sampResult(statistic=0.279, pvalue=1.1478066332583852e-34)"
            ]
          },
          "metadata": {
            "tags": []
          },
          "execution_count": 32
        }
      ]
    },
    {
      "cell_type": "code",
      "metadata": {
        "id": "4SeZLGUtxYvS",
        "outputId": "6e4bf56b-2543-4e63-c0d1-5f9b3f7f708c",
        "colab": {
          "base_uri": "https://localhost:8080/",
          "height": 299
        }
      },
      "source": [
        "def cdf(x, plot=True):\n",
        "  x, y = sorted(x), np.arange(len(x)) / len(x)\n",
        "  plt.title('Normal VS Poisson CDF')\n",
        "  return plt.plot(x, y) if plot else (x, y)\n",
        "\n",
        "cdf(r)\n",
        "cdf(n)"
      ],
      "execution_count": 35,
      "outputs": [
        {
          "output_type": "execute_result",
          "data": {
            "text/plain": [
              "[<matplotlib.lines.Line2D at 0x7f60326b1e48>]"
            ]
          },
          "metadata": {
            "tags": []
          },
          "execution_count": 35
        },
        {
          "output_type": "display_data",
          "data": {
            "image/png": "[encoded data removed]",
            "text/plain": [
              "<Figure size 432x288 with 1 Axes>"
            ]
          },
          "metadata": {
            "tags": [],
            "needs_background": "light"
          }
        }
      ]
    },
    {
      "cell_type": "code",
      "metadata": {
        "id": "9R0msW44xjdq",
        "outputId": "ebd5f08e-6037-4288-eefa-c9dd34b522a7",
        "colab": {
          "base_uri": "https://localhost:8080/",
          "height": 35
        }
      },
      "source": [
        "from scipy.stats import norm, shapiro\n",
        "n = norm.rvs(size=1000)\n",
        "shapiro(n)"
      ],
      "execution_count": 36,
      "outputs": [
        {
          "output_type": "execute_result",
          "data": {
            "text/plain": [
              "(0.9983953237533569, 0.48815616965293884)"
            ]
          },
          "metadata": {
            "tags": []
          },
          "execution_count": 36
        }
      ]
    },
    {
      "cell_type": "code",
      "metadata": {
        "id": "ONNuXv9VxnYn",
        "outputId": "170a8360-f7be-4178-97a5-3c767a03cf97",
        "colab": {
          "base_uri": "https://localhost:8080/",
          "height": 35
        }
      },
      "source": [
        "from scipy.stats import norm, jarque_bera\n",
        "n = norm.rvs(size=1000)\n",
        "jarque_bera(n)"
      ],
      "execution_count": 37,
      "outputs": [
        {
          "output_type": "execute_result",
          "data": {
            "text/plain": [
              "(4.375211756693394, 0.11218501192792485)"
            ]
          },
          "metadata": {
            "tags": []
          },
          "execution_count": 37
        }
      ]
    }
  ]
}